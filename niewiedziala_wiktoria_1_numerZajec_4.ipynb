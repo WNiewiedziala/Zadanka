{
  "nbformat": 4,
  "nbformat_minor": 0,
  "metadata": {
    "colab": {
      "provenance": []
    },
    "kernelspec": {
      "name": "python3",
      "display_name": "Python 3"
    },
    "language_info": {
      "name": "python"
    }
  },
  "cells": [
    {
      "cell_type": "markdown",
      "source": [
        "1. Stwórz program, który wydrukuje na ekranie następujący wzór dla n, gdzie n to liczba\n",
        "rzędów podana przez użytkownika za pomocą funkcji input (2pkt):\n",
        "\n",
        "\n",
        "- n = 9\n",
        "- 1\n",
        "- 12\n",
        "- 123\n",
        "- 1234\n",
        "- 12345\n",
        "- 123456\n",
        "- 1234567\n",
        "- 12345678\n",
        "Podpowiedź - pierwszy rząd jest pusty, dlatego widocznych jest tylko 8 rzędów"
      ],
      "metadata": {
        "id": "zWe5GXIVF6EM"
      }
    },
    {
      "cell_type": "code",
      "execution_count": 14,
      "metadata": {
        "colab": {
          "base_uri": "https://localhost:8080/"
        },
        "id": "O7G6V8uZCPZk",
        "outputId": "021b22fd-2b10-48fc-b1cd-a2051e8d8bd1"
      },
      "outputs": [
        {
          "output_type": "stream",
          "name": "stdout",
          "text": [
            "9\n",
            "1 \n",
            "1 2 \n",
            "1 2 3 \n",
            "1 2 3 4 \n",
            "1 2 3 4 5 \n",
            "1 2 3 4 5 6 \n",
            "1 2 3 4 5 6 7 \n",
            "1 2 3 4 5 6 7 8 \n"
          ]
        }
      ],
      "source": [
        "n = int(input())\n",
        "\n",
        "rows = (n)\n",
        "for columns in range( 1 , n):\n",
        "  for rows in range(1 , columns + 1):\n",
        "    print(rows , end=' ')\n",
        "  print()\n",
        "\n"
      ]
    },
    {
      "cell_type": "markdown",
      "source": [
        "2. Stwórz program, który wydrukuje na ekranie następujący wzór (2pkt):\n",
        "- *\n",
        "- **\n",
        "- ***\n",
        "- ****\n",
        "- *****\n",
        "- ****\n",
        "- ***\n",
        "- **\n",
        "- *\n"
      ],
      "metadata": {
        "id": "j4tBK1iUGOOp"
      }
    },
    {
      "cell_type": "code",
      "source": [
        "x = 5\n",
        "\n",
        "\n",
        "for columns in range( 0, columns +  1):\n",
        "  for rows in range(0 , columns + 1 ):\n",
        "    print('*' , end=' ')\n",
        "  print('')\n",
        "\n",
        "\n",
        "# jednak nie umiem"
      ],
      "metadata": {
        "colab": {
          "base_uri": "https://localhost:8080/"
        },
        "id": "PJN3VL3Ilqzx",
        "outputId": "b3b1f291-47bd-4be9-cd09-b589ea86b953"
      },
      "execution_count": 20,
      "outputs": [
        {
          "output_type": "stream",
          "name": "stdout",
          "text": [
            "* \n"
          ]
        }
      ]
    },
    {
      "cell_type": "markdown",
      "source": [
        "3. Stwórz listę zawierającą następujące obiekty klasy int [6, 2, 3, 7, 1, 12, 56, 99].\n",
        "Następnie napisz program, który:\n",
        "- zamieni wszystkie dwucyfrowe liczby na dowolne obiekty klasy String (1pkt)\n",
        "-  wypisze na ekranie najmniejszą wartość (2pkt"
      ],
      "metadata": {
        "id": "LVJ2pzOZGjJd"
      }
    },
    {
      "cell_type": "code",
      "source": [
        "lista = [ 6 , 2 , 3 , 7 , 1 , 12 , 56 , 99 ]\n",
        "\n",
        "\n",
        "for liczba in lista:\n",
        "  if liczba > 9:\n",
        "    print(';3')\n",
        "  else:\n",
        "    print(liczba)\n",
        "\n"
      ],
      "metadata": {
        "colab": {
          "base_uri": "https://localhost:8080/"
        },
        "id": "02m_8D5rKFDc",
        "outputId": "d5689721-2342-4415-d124-34e7d1fc96ef"
      },
      "execution_count": null,
      "outputs": [
        {
          "output_type": "stream",
          "name": "stdout",
          "text": [
            "6\n",
            "2\n",
            "3\n",
            "7\n",
            "1\n",
            ";3\n",
            ";3\n",
            ";3\n"
          ]
        }
      ]
    },
    {
      "cell_type": "code",
      "source": [
        "lista = [ 6 , 2 , 3 , 7 , 1 , 12 , 56 , 99 ]\n",
        "\n",
        "min(lista)"
      ],
      "metadata": {
        "colab": {
          "base_uri": "https://localhost:8080/"
        },
        "id": "dK_dblpFURUT",
        "outputId": "e67cd1c0-6f6c-43ed-fdf4-069ff0092862"
      },
      "execution_count": null,
      "outputs": [
        {
          "output_type": "execute_result",
          "data": {
            "text/plain": [
              "1"
            ]
          },
          "metadata": {},
          "execution_count": 83
        }
      ]
    }
  ]
}