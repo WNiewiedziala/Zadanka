{
  "nbformat": 4,
  "nbformat_minor": 0,
  "metadata": {
    "colab": {
      "provenance": []
    },
    "kernelspec": {
      "name": "python3",
      "display_name": "Python 3"
    },
    "language_info": {
      "name": "python"
    }
  },
  "cells": [
    {
      "cell_type": "markdown",
      "source": [
        "Wykorzystując funkcje input oraz warunki, stwórz prototyp formularza rejestracji\n",
        "użytkownika na stronie internetowej. Formularz powinien zawierać następujące pola\n",
        "(3pkt):\n",
        "* a. Imię\n",
        "* b. Nazwisko\n",
        "* c. Wiek\n",
        "* d. Hasło, które powinno zostać wpisane przez użytkownika dwukrotnie (pola\n",
        "Hasło oraz Powtórz hasło). Program musi sprawdzać zgodność wpisanych\n",
        "haseł)\n",
        "* e. Numer telefonu (program powinien przechowywać numer telefonu w postaci 9\n",
        "cyfr następujących po sobie, np 123456789). Program musi przetwarzać\n",
        "numery telefonu wpisane przez użytkownika, sprawdzać ich poprawność i\n",
        "jeżeli nie spełniają warunków - sprowadzać je do pożądanej formy.\n",
        "\n",
        "Program musi obsługiwać dwa typy użytkowników:\n",
        "1. użytkownik wpisuje numer poprawnie (123456789) bądź prawie\n",
        "poprawnie (123-456-789 lub 123 456 789) - w takim przypadku\n",
        "sprowadzają Państwo numer do pożądanej formy\n",
        "2. użytkownik wpisuje numer niepoprawnie (dziwny ciąg znaków\n",
        "bądź numer wpisany np tak 123#456#789) - wtedy wyświetlają\n",
        "państwo komunikat o błędnym nr tel\n",
        "\n",
        "\n",
        "Na koniec program powinien wyświetlać wszystkie wprowadzone przez użytkownika\n",
        "dane\n"
      ],
      "metadata": {
        "id": "aB9xsam-T0N_"
      }
    },
    {
      "cell_type": "code",
      "execution_count": 1,
      "metadata": {
        "colab": {
          "base_uri": "https://localhost:8080/"
        },
        "id": "CSlud9UqNUFA",
        "outputId": "d8404b02-62e0-43b0-946c-ceccfdfd64b6"
      },
      "outputs": [
        {
          "output_type": "stream",
          "name": "stdout",
          "text": [
            "Wpisz swoje imie:dfl4\n",
            "Imie nie moze zawierac cyfr i znakow specjalnych\n",
            "Wpisz swoje nazwisko:hpD\n",
            "Nazwisko:hpD\n",
            "Wpisz swoj wiek:BLOBOL\n",
            "Wiek powinien byc liczba\n",
            "Wpisz swoje haslo:BLEA\n",
            "Powtorz haslo:BL\n",
            "Hasla nie sa poprawne, sprobuj ponownie\n",
            "Podaj numer telefonu:111-111-111\n",
            "Numer telefony jest poprawny\n",
            "Imie: dfl4\n",
            "Nazwisko: hpD\n",
            "Wiek: BLOBOL\n",
            "Numer telefonu: 111-111-111\n"
          ]
        }
      ],
      "source": [
        "imie = input('Wpisz swoje imie:')\n",
        "\n",
        "if imie.isalpha():\n",
        "   print('Imie:' + imie)\n",
        "else:\n",
        " print('Imie nie moze zawierac cyfr i znakow specjalnych')\n",
        "\n",
        "\n",
        "\n",
        "\n",
        "\n",
        "nazwisko = input('Wpisz swoje nazwisko:')\n",
        "\n",
        "if nazwisko.isalpha():\n",
        "    print('Nazwisko:' + nazwisko)\n",
        "else:\n",
        "  print('Nazwisko nie moze zawierac cyfr i znakow specjalnych')\n",
        "\n",
        "\n",
        "\n",
        "\n",
        "wiek = input('Wpisz swoj wiek:')\n",
        "\n",
        "if wiek.isdigit():\n",
        "  wiek_int = int(wiek)\n",
        "  print('Wiek:' + wiek_int)\n",
        "else:\n",
        "  print('Wiek powinien byc liczba')\n",
        "\n",
        "\n",
        "haslo = input('Wpisz swoje haslo:')\n",
        "haslo2 = input('Powtorz haslo:')\n",
        "\n",
        "if haslo == haslo2:\n",
        "  print('Haslo sie zgadza')\n",
        "else:\n",
        "  print('Hasla nie sa poprawne, sprobuj ponownie')\n",
        "\n",
        "\n",
        "\n",
        "\n",
        "\n",
        "tel = input('Podaj numer telefonu:')\n",
        "\n",
        "\n",
        "\n",
        "if tel.isdigit() and len(tel) ==  9:\n",
        "  print('Numer telefony jest poprawny')\n",
        "elif len(tel) != 9:\n",
        "  temp = tel.replace('-' , '').replace(' ' , '')\n",
        "  if len(temp) == 9 and temp.isdigit():\n",
        "    print('Numer telefony jest poprawny')\n",
        "else:\n",
        "  print('Podany numer jest niepoprawny')\n",
        "\n",
        "\n",
        "\n",
        "# Wyswietlanie danych\n",
        "\n",
        "print('Imie:', imie )\n",
        "print('Nazwisko:' , nazwisko)\n",
        "print('Wiek:',  wiek)\n",
        "print('Numer telefonu:' , tel)\n"
      ]
    },
    {
      "cell_type": "markdown",
      "source": [
        "2. Stwórz prosty kalkulator. Program powinien umożliwiać wpisanie użytkownikowi\n",
        "dwóch liczb oraz wykonanie na nich wszystkich poznanych na poprzednich zajęciach\n",
        "operacji arytmetycznych (3pkt)."
      ],
      "metadata": {
        "id": "8HcPfcwmVfdY"
      }
    },
    {
      "cell_type": "code",
      "source": [
        "x = input('Podaj pierwsza liczbe:')\n",
        "y = input('Podaj druga liczbe:')\n",
        "\n",
        "\n",
        "dzialanie = input ('''Wybierz dzialanie:\n",
        "+ dodawanie\n",
        "- odejmowanie\n",
        "* mnozenie\n",
        "/ dzielenie\n",
        "''')\n",
        "\n",
        "if x.isdigit and y.isdigit():\n",
        "  if dzialanie == '+':\n",
        "     print(x + y)\n",
        "  elif dzialanie == '-':\n",
        "      print( x - y)\n",
        "  elif dzialanie == '*':\n",
        "    print(x * y)\n",
        "  elif dzialanie == '/':\n",
        "    if y != 0:\n",
        "      print(x / y)\n",
        "    else:\n",
        "      print('Nie mozna dzielic przez 0')\n",
        "else:\n",
        "  print('Niepoprawne dane')\n",
        "\n",
        "\n",
        "\n",
        "\n",
        "#cos zrobilam zle i nie wiem co"
      ],
      "metadata": {
        "colab": {
          "base_uri": "https://localhost:8080/",
          "height": 383
        },
        "id": "M4wYbmbQzIsu",
        "outputId": "2d11592a-7aa9-4c35-9c9d-b3f3acc3ed80"
      },
      "execution_count": 12,
      "outputs": [
        {
          "name": "stdout",
          "output_type": "stream",
          "text": [
            "Podaj pierwsza liczbe:4\n",
            "Podaj druga liczbe:0\n",
            "Wybierz dzialanie:\n",
            "+ dodawanie\n",
            "- odejmowanie\n",
            "* mnozenie\n",
            "/ dzielenie\n",
            "/\n"
          ]
        },
        {
          "output_type": "error",
          "ename": "TypeError",
          "evalue": "ignored",
          "traceback": [
            "\u001b[0;31m---------------------------------------------------------------------------\u001b[0m",
            "\u001b[0;31mTypeError\u001b[0m                                 Traceback (most recent call last)",
            "\u001b[0;32m<ipython-input-12-e1e9a76f527e>\u001b[0m in \u001b[0;36m<cell line: 12>\u001b[0;34m()\u001b[0m\n\u001b[1;32m     19\u001b[0m   \u001b[0;32melif\u001b[0m \u001b[0mdzialanie\u001b[0m \u001b[0;34m==\u001b[0m \u001b[0;34m'/'\u001b[0m\u001b[0;34m:\u001b[0m\u001b[0;34m\u001b[0m\u001b[0;34m\u001b[0m\u001b[0m\n\u001b[1;32m     20\u001b[0m     \u001b[0;32mif\u001b[0m \u001b[0my\u001b[0m \u001b[0;34m!=\u001b[0m \u001b[0;36m0\u001b[0m\u001b[0;34m:\u001b[0m\u001b[0;34m\u001b[0m\u001b[0;34m\u001b[0m\u001b[0m\n\u001b[0;32m---> 21\u001b[0;31m       \u001b[0mprint\u001b[0m\u001b[0;34m(\u001b[0m\u001b[0mx\u001b[0m \u001b[0;34m/\u001b[0m \u001b[0my\u001b[0m\u001b[0;34m)\u001b[0m\u001b[0;34m\u001b[0m\u001b[0;34m\u001b[0m\u001b[0m\n\u001b[0m\u001b[1;32m     22\u001b[0m     \u001b[0;32melse\u001b[0m\u001b[0;34m:\u001b[0m\u001b[0;34m\u001b[0m\u001b[0;34m\u001b[0m\u001b[0m\n\u001b[1;32m     23\u001b[0m       \u001b[0mprint\u001b[0m\u001b[0;34m(\u001b[0m\u001b[0;34m'Nie mozna dzielic przez 0'\u001b[0m\u001b[0;34m)\u001b[0m\u001b[0;34m\u001b[0m\u001b[0;34m\u001b[0m\u001b[0m\n",
            "\u001b[0;31mTypeError\u001b[0m: unsupported operand type(s) for /: 'str' and 'str'"
          ]
        }
      ]
    }
  ]
}