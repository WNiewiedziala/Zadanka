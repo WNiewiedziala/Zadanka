{
  "nbformat": 4,
  "nbformat_minor": 0,
  "metadata": {
    "colab": {
      "provenance": []
    },
    "kernelspec": {
      "name": "python3",
      "display_name": "Python 3"
    },
    "language_info": {
      "name": "python"
    }
  },
  "cells": [
    {
      "cell_type": "markdown",
      "source": [
        "Wykorzystując funkcje input oraz warunki, stwórz prototyp formularza rejestracji\n",
        "użytkownika na stronie internetowej. Formularz powinien zawierać następujące pola\n",
        "(3pkt):\n",
        "* a. Imię\n",
        "* b. Nazwisko\n",
        "* c. Wiek\n",
        "* d. Hasło, które powinno zostać wpisane przez użytkownika dwukrotnie (pola\n",
        "Hasło oraz Powtórz hasło). Program musi sprawdzać zgodność wpisanych\n",
        "haseł)\n",
        "* e. Numer telefonu (program powinien przechowywać numer telefonu w postaci 9\n",
        "cyfr następujących po sobie, np 123456789). Program musi przetwarzać\n",
        "numery telefonu wpisane przez użytkownika, sprawdzać ich poprawność i\n",
        "jeżeli nie spełniają warunków - sprowadzać je do pożądanej formy.\n",
        "\n",
        "Program musi obsługiwać dwa typy użytkowników:\n",
        "1. użytkownik wpisuje numer poprawnie (123456789) bądź prawie\n",
        "poprawnie (123-456-789 lub 123 456 789) - w takim przypadku\n",
        "sprowadzają Państwo numer do pożądanej formy\n",
        "2. użytkownik wpisuje numer niepoprawnie (dziwny ciąg znaków\n",
        "bądź numer wpisany np tak 123#456#789) - wtedy wyświetlają\n",
        "państwo komunikat o błędnym nr tel\n",
        "\n",
        "\n",
        "Na koniec program powinien wyświetlać wszystkie wprowadzone przez użytkownika\n",
        "dane\n"
      ],
      "metadata": {
        "id": "aB9xsam-T0N_"
      }
    },
    {
      "cell_type": "code",
      "execution_count": null,
      "metadata": {
        "colab": {
          "base_uri": "https://localhost:8080/",
          "height": 140
        },
        "id": "CSlud9UqNUFA",
        "outputId": "974ac600-2056-470e-9a45-6040b7da906a"
      },
      "outputs": [
        {
          "output_type": "error",
          "ename": "SyntaxError",
          "evalue": "ignored",
          "traceback": [
            "\u001b[0;36m  File \u001b[0;32m\"<ipython-input-29-ddcf30e910f4>\"\u001b[0;36m, line \u001b[0;32m54\u001b[0m\n\u001b[0;31m    print('Imie:' imie + 'Nazwisko:'nazwisko + 'Wiek:' wiek + 'Numer telefonu:'tel)\u001b[0m\n\u001b[0m          ^\u001b[0m\n\u001b[0;31mSyntaxError\u001b[0m\u001b[0;31m:\u001b[0m invalid syntax. Perhaps you forgot a comma?\n"
          ]
        }
      ],
      "source": [
        "imie = input('Wpisz swoje imie:')\n",
        "\n",
        "if imie.isalpha():\n",
        "   print('Imie:' + imie)\n",
        "else:\n",
        " print('Imie nie moze zawierac cyfr i znakow specjalnych')\n",
        "\n",
        "\n",
        "\n",
        "\n",
        "\n",
        "nazwisko = input('Wpisz swoje nazwisko:')\n",
        "\n",
        "if nazwisko.isalpha():\n",
        "    print('Nazwisko:' + nazwisko)\n",
        "else:\n",
        "  print('Nazwisko nie moze zawierac cyfr i znakow specjalnych')\n",
        "\n",
        "\n",
        "\n",
        "\n",
        "wiek = input('Wpisz swoj wiek:')\n",
        "\n",
        "if wiek.isdigit():\n",
        "  wiek_int = int(wiek)\n",
        "  print('Wiek:' + wiek_int)\n",
        "else:\n",
        "  print('Wiek powinien byc liczba')\n",
        "\n",
        "\n",
        "haslo = input('Wpisz swoje haslo:')\n",
        "haslo2 = input('Powtorz haslo:')\n",
        "\n",
        "if haslo == haslo2:\n",
        "  print('Haslo sie zgadza')\n",
        "else:\n",
        "  print('Hasla nie sa poprawne, sprobuj ponownie')\n",
        "\n",
        "\n",
        "\n",
        "\n",
        "\n",
        "tel = input('Podaj numer telefonu:')\n",
        "\n",
        "if len(tel) < 9 and tel.isdigit():\n",
        "  print('Numer telefonu jest poprawny')\n",
        "elif tel [3 or 6] == '-' or ' ':\n",
        "  print('Numer telefony jest poprawny')\n",
        "else:\n",
        "  print('Podany numer jest niepoprawny')\n",
        "\n",
        "\n",
        "\n",
        "# Wyswietlanie danych\n",
        "\n",
        "print('Imie:', imie )\n",
        "print('Nazwisko:' , nazwisko)\n",
        "print('Wiek:',  wiek)\n",
        "print('Numer telefonu:' , tel)\n"
      ]
    },
    {
      "cell_type": "markdown",
      "source": [
        "2. Stwórz prosty kalkulator. Program powinien umożliwiać wpisanie użytkownikowi\n",
        "dwóch liczb oraz wykonanie na nich wszystkich poznanych na poprzednich zajęciach\n",
        "operacji arytmetycznych (3pkt)."
      ],
      "metadata": {
        "id": "8HcPfcwmVfdY"
      }
    },
    {
      "cell_type": "code",
      "source": [
        "x = input('Wpisz pierwsza liczbe:')\n",
        "\n",
        "if x.isdigit():\n",
        "  x_int = int(x)\n",
        "  print(x_int)\n",
        "else:\n",
        "  print('Niepoprawne dane')\n",
        "\n",
        "\n",
        "\n",
        "y = input('Wpisz druga liczbe:')\n",
        "\n",
        "if y.isdigit():\n",
        "  y_int = int(y)\n",
        "  print(y_int)\n",
        "else:\n",
        "  print('Niepoprawne dane')\n",
        "\n",
        "\n",
        "\n",
        "\n",
        "dzialanie = input ('''Wybierz dzialanie:\n",
        "+ dodawanie\n",
        "- odejmowanie\n",
        "* mnozenie\n",
        "/ dzielenie\n",
        "''')\n",
        "\n",
        "if dzialanie == '+':\n",
        "  print(x + y)\n",
        "elif dzialanie == '-':\n",
        "  print( x - y)\n",
        "elif dzialanie == '*':\n",
        "  print(x * y)\n",
        "elif dzialanie == '/':\n",
        "  print(x / y)\n",
        "else:\n",
        "  print('Niepoprawna operacja')\n"
      ],
      "metadata": {
        "id": "1mYiEP-sbrof",
        "colab": {
          "base_uri": "https://localhost:8080/"
        },
        "outputId": "5dd1f415-038d-436f-9450-95f5425923e0"
      },
      "execution_count": 48,
      "outputs": [
        {
          "output_type": "stream",
          "name": "stdout",
          "text": [
            "Wpisz pierwsza liczbe:9\n",
            "9\n",
            "Wpisz druga liczbe:0\n",
            "0\n",
            "Wybierz dzialanie:\n",
            "+ dodawanie\n",
            "- odejmowanie\n",
            "* mnozenie\n",
            "/ dzielenie\n",
            "?\n",
            "Niepoprawna operacja\n"
          ]
        }
      ]
    }
  ]
}