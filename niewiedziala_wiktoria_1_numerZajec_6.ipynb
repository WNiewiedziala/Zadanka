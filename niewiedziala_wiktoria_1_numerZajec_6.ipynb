{
  "nbformat": 4,
  "nbformat_minor": 0,
  "metadata": {
    "colab": {
      "provenance": []
    },
    "kernelspec": {
      "name": "python3",
      "display_name": "Python 3"
    },
    "language_info": {
      "name": "python"
    }
  },
  "cells": [
    {
      "cell_type": "markdown",
      "source": [
        "zadanie\n",
        "1. wgrac csv titanic z zeszlysz zajec\n",
        "2. napisaniu wlasnej funkcji zamieniajacej female na cyfre 1 i male na 0\n",
        "3. zastosowaniu wlasnej funkcji na kolumnie z df titanic 'sex'\n",
        "4. storznie nowej kolumny o nazwie 'sex_new' z wartosciami 0 i 1 na podsawie tabli 's"
      ],
      "metadata": {
        "id": "OkJUJqM9Ej5r"
      }
    },
    {
      "cell_type": "code",
      "execution_count": null,
      "metadata": {
        "id": "fRqVgS-6ESwy"
      },
      "outputs": [],
      "source": [
        "import pandas as pd"
      ]
    },
    {
      "cell_type": "code",
      "source": [
        "df_titanic = pd.read_csv('/contemt/train (1).csv')\n",
        "\n",
        "df_titanic"
      ],
      "metadata": {
        "id": "qqZVRyFOE8av"
      },
      "execution_count": null,
      "outputs": []
    },
    {
      "cell_type": "code",
      "source": [
        "def SEX(Sex):\n",
        "  if Sex == 'female':\n",
        "    return 'female'\n",
        "  else:\n",
        "    return 'male'"
      ],
      "metadata": {
        "id": "bQh6ES7YFyjn"
      },
      "execution_count": null,
      "outputs": []
    },
    {
      "cell_type": "code",
      "source": [
        "df_titanic['Sex_new'] = df_titanic['Sex'].apply(SEX)"
      ],
      "metadata": {
        "id": "ABqz5GlbGfnO"
      },
      "execution_count": null,
      "outputs": []
    }
  ]
}